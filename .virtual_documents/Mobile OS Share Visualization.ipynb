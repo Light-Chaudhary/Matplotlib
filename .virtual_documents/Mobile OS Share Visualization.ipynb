# Create a pie chart showing the market share of mobile OS (Android, iOS, others). 
# Then recreate the same using a horizontal bar chart and observe which is easier to understand.

import matplotlib.pyplot as plt 

os_names = ['Android', 'iOS', 'Others']
market_share = [71.8, 27.6, 0.6]
colors = ['green', 'blue', 'gray']
explode = [0,0.3,0]

plt.style.use("ggplot")
plt.pie(market_share, labels = os_names, colors = colors, explode = explode)
plt.legend()
plt.title("Operating Systems Share")
plt.tight_layout()
plt.show()

import numpy as np 
x = np.arange(len(os_names))
height = 0.25
plt.style.use("ggplot")
plt.barh(x, market_share, height = height, color = colors ,label = os_names)
plt.title("Operating Systems Share")
plt.yticks(x, os_names)
plt.legend()
plt.tight_layout()
plt.grid(True)
plt.show()



