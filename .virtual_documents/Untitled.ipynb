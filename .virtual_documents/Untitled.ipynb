# Stackplot
import matplotlib.pyplot as plt 


days = [1,2,3,4]
programming = [4,2,3,6]
workout = [0.15,1,0.30,0.5]
studying = [2.5,3,1.75,2.05]
sleeping = [5,6,8,9]
activities = ["Programming", "Workout", "Studying", "Sleeping"]

plt.style.use("ggplot")
plt.stackplot(days, programming, workout, studying, sleeping, labels = activities, alpha = 0.9)
plt.legend(loc = "best")
plt.xlabel("days")
plt.ylabel("activities")
plt.axis("equal")
plt.title("Schedule")
plt.figure(figsize = (6,6))
plt.grid(True)
plt.show()



