# Exam Scores
import matplotlib.pyplot as plt

scores = [55, 78, 90, 88, 67, 45, 88, 95, 70, 60, 5, 80, 92, 85, 77, 69, 58, 84, 91, 73]

bins = [10,20,30,40,50,60,70,80,90,100]

plt.style.use("classic")
plt.hist (scores, bins = bins, color = "#E0042C", alpha = 0.9, label = "Scores Range")
plt.title("Exam Scores")
plt.xlabel("Range")
plt.ylabel("Scores")
plt.legend(loc = "upper left")
plt.tight_layout()
plt.grid(axis = "y", alpha = 0.75)
plt.show()
