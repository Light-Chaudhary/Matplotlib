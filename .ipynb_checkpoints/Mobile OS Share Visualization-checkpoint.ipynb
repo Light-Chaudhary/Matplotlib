{
 "cells": [
  {
   "cell_type": "code",
   "execution_count": null,
   "id": "3b50f664-5de8-460d-b8b4-922fb00cdc3f",
   "metadata": {},
   "outputs": [],
   "source": [
    "Create a pie chart showing the market share of mobile OS (Android, iOS, others). \n",
    "Then recreate the same using a horizontal bar chart and observe which is easier to understand."
   ]
  }
 ],
 "metadata": {
  "kernelspec": {
   "display_name": "Python 3 (ipykernel)",
   "language": "python",
   "name": "python3"
  },
  "language_info": {
   "codemirror_mode": {
    "name": "ipython",
    "version": 3
   },
   "file_extension": ".py",
   "mimetype": "text/x-python",
   "name": "python",
   "nbconvert_exporter": "python",
   "pygments_lexer": "ipython3",
   "version": "3.13.5"
  }
 },
 "nbformat": 4,
 "nbformat_minor": 5
}
